{
  "nbformat": 4,
  "nbformat_minor": 0,
  "metadata": {
    "colab": {
      "provenance": []
    },
    "kernelspec": {
      "name": "python3",
      "display_name": "Python 3"
    },
    "language_info": {
      "name": "python"
    }
  },
  "cells": [
    {
      "cell_type": "markdown",
      "source": [
        "# vehicle-reid-0001 ダウンロード"
      ],
      "metadata": {
        "id": "wxxdFhKSmlMM"
      }
    },
    {
      "cell_type": "code",
      "execution_count": null,
      "metadata": {
        "id": "mFQNC3cgmYv3"
      },
      "outputs": [],
      "source": [
        "!pip install openvino-dev"
      ]
    },
    {
      "cell_type": "code",
      "source": [
        "!omz_downloader --name vehicle-reid-0001"
      ],
      "metadata": {
        "id": "ECkSoUhQmjcR"
      },
      "execution_count": null,
      "outputs": []
    },
    {
      "cell_type": "markdown",
      "source": [
        "# onnxoptimizer実行"
      ],
      "metadata": {
        "id": "dwFY7UWpm0m6"
      }
    },
    {
      "cell_type": "code",
      "source": [
        "!pip install onnx onnxoptimizer"
      ],
      "metadata": {
        "id": "nPr5cfGBmkLu"
      },
      "execution_count": null,
      "outputs": []
    },
    {
      "cell_type": "code",
      "source": [
        "import onnx\n",
        "import onnxoptimizer\n",
        "from pathlib import Path\n",
        "\n",
        "onnxfile = Path(\"/content/public/vehicle-reid-0001/osnet_ain_x1_0_vehicle_reid.onnx\")\n",
        "\n",
        "onnx_model = onnx.load(onnxfile)\n",
        "passes = [\"eliminate_unused_initializer\"]\n",
        "optimized_model = onnxoptimizer.optimize(onnx_model, passes)\n",
        "output_onnx_path = f\"{onnxfile.parent}/{onnxfile.stem}_optimized.onnx\"\n",
        "onnx.save(optimized_model, output_onnx_path)"
      ],
      "metadata": {
        "id": "jUHocSwIm4by"
      },
      "execution_count": 4,
      "outputs": []
    }
  ]
}